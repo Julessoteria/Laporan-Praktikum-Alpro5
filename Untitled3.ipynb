{
 "cells": [
  {
   "cell_type": "code",
   "execution_count": 1,
   "id": "2839768e",
   "metadata": {},
   "outputs": [
    {
     "name": "stdout",
     "output_type": "stream",
     "text": [
      "Masukkan bilangan pertama: 20\n",
      "Masukkan bilangan kedua: 25\n",
      "20 x 25 = 20 + 20 + 20 + 20 + 20 + 20 + 20 + 20 + 20 + 20 + 20 + 20 + 20 + 20 + 20 + 20 + 20 + 20 + 20 + 20 + 20 + 20 + 20 + 20 + 20 = 500\n"
     ]
    }
   ],
   "source": [
    "def perkalian(angka_pertama, angka_kedua):\n",
    "    hasil = 0\n",
    "    for kali in range(angka_kedua):\n",
    "        hasil = hasil + angka_pertama\n",
    "    return hasil\n",
    "\n",
    "bilangan_pertama = int(input(\"Masukkan bilangan pertama: \"))\n",
    "bilangan_kedua = int(input(\"Masukkan bilangan kedua: \"))\n",
    "\n",
    "hasil_perkalian = perkalian(bilangan_pertama, bilangan_kedua)\n",
    "\n",
    "teks_operasi = (f\"{bilangan_pertama} x {bilangan_kedua} = \")\n",
    "teks_tambahan = \"\"\n",
    "for i in range(bilangan_kedua-1):\n",
    "    teks_tambahan += (f\"{bilangan_pertama} + \")\n",
    "teks_hasil = (f\"{bilangan_pertama} = {hasil_perkalian}\")\n",
    "\n",
    "print(f\"{teks_operasi + teks_tambahan + teks_hasil}\")\n"
   ]
  },
  {
   "cell_type": "code",
   "execution_count": 3,
   "id": "ddcd8ff3",
   "metadata": {},
   "outputs": [
    {
     "name": "stdout",
     "output_type": "stream",
     "text": [
      "Masukkan batas bawah: 5\n",
      "Masukkan batas atas: 15\n",
      "5 7 9 11 13 15 \n"
     ]
    }
   ],
   "source": [
    "def bilangan_ganjil(batas_bawah, batas_atas):\n",
    "    if batas_bawah < batas_atas:\n",
    "        ganjil_str = \"\"\n",
    "        for bilangan in range(batas_bawah, batas_atas + 1):\n",
    "            if bilangan % 2 != 0:\n",
    "                ganjil_str += (f\"{bilangan} \")\n",
    "        return ganjil_str\n",
    "    elif batas_bawah > batas_atas:\n",
    "        ganjil_str = \"\"\n",
    "        for bilangan in range(batas_atas, batas_bawah + 1):\n",
    "            if bilangan % 2 != 0:\n",
    "                ganjil_str += (f\"{bilangan} \")\n",
    "        return ganjil_str\n",
    "\n",
    "batas_bawah = int(input(\"Masukkan batas bawah: \"))\n",
    "batas_atas = int(input(\"Masukkan batas atas: \"))\n",
    "\n",
    "print(bilangan_ganjil(batas_bawah, batas_atas))\n"
   ]
  },
  {
   "cell_type": "code",
   "execution_count": 4,
   "id": "f570f571",
   "metadata": {},
   "outputs": [
    {
     "name": "stdout",
     "output_type": "stream",
     "text": [
      "Masukkan jumlah mata kuliah: 7\n",
      "Masukkan jumlah nilai A: 3\n",
      "Masukkan jumlah nilai B: 4\n",
      "Masukkan jumlah nilai C: 3\n",
      "Masukkan jumlah nilai D: 2\n",
      "IPS: 1.8571428571428572\n"
     ]
    }
   ],
   "source": [
    "def total_nilai(a, b):\n",
    "    total = 0\n",
    "    for count in range(b):\n",
    "        if count < a:\n",
    "            total += 4\n",
    "        elif count < 2 * a:\n",
    "            total += 3\n",
    "        elif count < 3 * a:\n",
    "            total += 2\n",
    "        else:\n",
    "            total += 1\n",
    "    return total\n",
    "\n",
    "def hitung_ips():\n",
    "    jumlah_matkul = int(input(\"Masukkan jumlah mata kuliah: \"))\n",
    "    nilai_a = int(input(\"Masukkan jumlah nilai A: \"))\n",
    "    nilai_b = int(input(\"Masukkan jumlah nilai B: \"))\n",
    "    nilai_c = int(input(\"Masukkan jumlah nilai C: \"))\n",
    "    nilai_d = int(input(\"Masukkan jumlah nilai D: \"))\n",
    "\n",
    "    total_sks = jumlah_matkul * 3\n",
    "    total_nilai_semua = total_nilai(nilai_a, 4) + total_nilai(nilai_b, 3) + total_nilai(nilai_c, 2) + total_nilai(nilai_d, 1)\n",
    "\n",
    "    ips = total_nilai_semua / total_sks\n",
    "    return ips\n",
    "\n",
    "ips = hitung_ips()\n",
    "print(\"IPS:\", ips)\n"
   ]
  },
  {
   "cell_type": "code",
   "execution_count": null,
   "id": "f5195383",
   "metadata": {},
   "outputs": [],
   "source": []
  }
 ],
 "metadata": {
  "kernelspec": {
   "display_name": "Python 3 (ipykernel)",
   "language": "python",
   "name": "python3"
  },
  "language_info": {
   "codemirror_mode": {
    "name": "ipython",
    "version": 3
   },
   "file_extension": ".py",
   "mimetype": "text/x-python",
   "name": "python",
   "nbconvert_exporter": "python",
   "pygments_lexer": "ipython3",
   "version": "3.11.5"
  }
 },
 "nbformat": 4,
 "nbformat_minor": 5
}
